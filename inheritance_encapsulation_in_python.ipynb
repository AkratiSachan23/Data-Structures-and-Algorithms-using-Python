{
  "nbformat": 4,
  "nbformat_minor": 0,
  "metadata": {
    "colab": {
      "provenance": [],
      "authorship_tag": "ABX9TyMwgdJ8Y55V5NZAnht+A18U",
      "include_colab_link": true
    },
    "kernelspec": {
      "name": "python3",
      "display_name": "Python 3"
    },
    "language_info": {
      "name": "python"
    }
  },
  "cells": [
    {
      "cell_type": "markdown",
      "metadata": {
        "id": "view-in-github",
        "colab_type": "text"
      },
      "source": [
        "<a href=\"https://colab.research.google.com/github/AkratiSachan23/Data-Structures-and-Algorithms-using-Python/blob/main/inheritance_encapsulation_in_python.ipynb\" target=\"_parent\"><img src=\"https://colab.research.google.com/assets/colab-badge.svg\" alt=\"Open In Colab\"/></a>"
      ]
    },
    {
      "cell_type": "markdown",
      "source": [
        "# Inheritance"
      ],
      "metadata": {
        "id": "h6E2dzERj58B"
      }
    },
    {
      "cell_type": "code",
      "execution_count": 19,
      "metadata": {
        "colab": {
          "base_uri": "https://localhost:8080/"
        },
        "id": "gFBGOveOhZhj",
        "outputId": "e065b5db-a49b-44be-a4d6-fbb28d122138"
      },
      "outputs": [
        {
          "output_type": "stream",
          "name": "stdout",
          "text": [
            "Child working\n",
            "Father working\n"
          ]
        }
      ],
      "source": [
        "# Single inheritance\n",
        "class Father:\n",
        "  def fatherwork(self):\n",
        "    print(\"Father working\")\n",
        "class child(Father):\n",
        "  def childwork(self):\n",
        "    print(\"Child working\")\n",
        "\n",
        "c=child()\n",
        "c.childwork()\n",
        "c.fatherwork()"
      ]
    },
    {
      "cell_type": "code",
      "source": [
        "# Multiple inheritance\n",
        "class Father:\n",
        "  def fatherwork(self):\n",
        "    print(\"Father working\")\n",
        "class Mother:\n",
        "  def motherwork(self):\n",
        "    print(\"Mother working\")\n",
        "class child(Father,Mother):\n",
        "  def childwork(self):\n",
        "    print(\"Child working\")\n",
        "\n",
        "c=child()\n",
        "c.childwork()\n",
        "c.fatherwork()\n",
        "c.motherwork()"
      ],
      "metadata": {
        "colab": {
          "base_uri": "https://localhost:8080/"
        },
        "id": "lXYAsr_BhmGA",
        "outputId": "22120fda-a817-49f5-a5fb-e96436c4d605"
      },
      "execution_count": 20,
      "outputs": [
        {
          "output_type": "stream",
          "name": "stdout",
          "text": [
            "Child working\n",
            "Father working\n",
            "Mother working\n"
          ]
        }
      ]
    },
    {
      "cell_type": "code",
      "source": [
        "# MultiLevel Inheritance\n",
        "class Grandparent:\n",
        "  def feature1(self):\n",
        "    print(\"Grandfather Feature\")\n",
        "class Parent(Grandparent):\n",
        "  def feature2(Self):\n",
        "    print(\"Parent Feature\")\n",
        "class Child(Parent):\n",
        "  def feature3(self):\n",
        "    print(\"child feature\")\n",
        "\n",
        "c=Parent()\n",
        "c.feature1()"
      ],
      "metadata": {
        "colab": {
          "base_uri": "https://localhost:8080/"
        },
        "id": "lgJx7hJPiPxq",
        "outputId": "35120824-11c2-4ca6-ddf6-553ef5795465"
      },
      "execution_count": 21,
      "outputs": [
        {
          "output_type": "stream",
          "name": "stdout",
          "text": [
            "Grandfather Feature\n"
          ]
        }
      ]
    },
    {
      "cell_type": "code",
      "source": [
        "d=child()\n",
        "c.feature2()"
      ],
      "metadata": {
        "colab": {
          "base_uri": "https://localhost:8080/"
        },
        "id": "lS3T3ytxi1AY",
        "outputId": "8b9f8541-8861-41de-f9dc-58abc68f3f13"
      },
      "execution_count": 22,
      "outputs": [
        {
          "output_type": "stream",
          "name": "stdout",
          "text": [
            "Parent Feature\n"
          ]
        }
      ]
    },
    {
      "cell_type": "code",
      "source": [
        "# Hierarchial Inheritance\n",
        "class Parent:\n",
        "  def feature(self):\n",
        "    print(\"Parent Feature\")\n",
        "class Child1(Parent):\n",
        "  def feature1(self):\n",
        "    print(\"Child1 Feature\")\n",
        "class Child2(Parent):\n",
        "  def feature2(self):\n",
        "    print(\"Child2 Feature\")\n",
        "\n",
        "c1=Child1()\n",
        "c2=Child2()\n",
        "\n",
        "c1.feature()\n",
        "c2.feature()\n",
        "\n",
        "c1.feature1()\n",
        "c2.feature2()"
      ],
      "metadata": {
        "colab": {
          "base_uri": "https://localhost:8080/"
        },
        "id": "ooFuHuwdi8cN",
        "outputId": "24d5a650-ce51-4f4f-ddfc-1fd6602f596f"
      },
      "execution_count": 23,
      "outputs": [
        {
          "output_type": "stream",
          "name": "stdout",
          "text": [
            "Parent Feature\n",
            "Parent Feature\n",
            "Child1 Feature\n",
            "Child2 Feature\n"
          ]
        }
      ]
    },
    {
      "cell_type": "markdown",
      "source": [
        "## Super()\n",
        "super is a built-in function in Python used in inheritance to give access to the parent class methods/constructor without explicitly naming the parent class.<br>\n",
        "It's most often used inside the init constructor of a child class to call the parent's constructor and initialize parent attributes."
      ],
      "metadata": {
        "id": "5FNN3-KMkND-"
      }
    },
    {
      "cell_type": "code",
      "source": [
        "# super keyword inheritance example\n",
        "class parent:\n",
        "  def __init__(self,name):\n",
        "    self.name=name\n",
        "    print(\"Parent initialize\")\n",
        "\n",
        "class Child(parent):\n",
        "  def __init__(self,name,age):\n",
        "    super().__init__(name)  # calls Parent's __init__\n",
        "    self.age=age\n",
        "    print(\"Child Initialized\")\n",
        "\n",
        "# Create object\n",
        "obj=Child(\"Ram\",20)\n",
        "\n",
        "print(\"\\nProperties:\")\n",
        "print(\"Name: \",obj.name)\n",
        "print(\"Age: \",obj.age)"
      ],
      "metadata": {
        "colab": {
          "base_uri": "https://localhost:8080/"
        },
        "id": "MEp5nfy4jhxM",
        "outputId": "8e18f1f8-eeb4-4ccc-fe0c-addc659468d5"
      },
      "execution_count": 24,
      "outputs": [
        {
          "output_type": "stream",
          "name": "stdout",
          "text": [
            "Parent initialize\n",
            "Child Initialized\n",
            "\n",
            "Properties:\n",
            "Name:  Ram\n",
            "Age:  20\n"
          ]
        }
      ]
    },
    {
      "cell_type": "markdown",
      "source": [
        "## Method overriding\n",
        "When a child class redefines a method of its parent class with the same name."
      ],
      "metadata": {
        "id": "1VTWTkaumtOK"
      }
    },
    {
      "cell_type": "code",
      "source": [
        "class Grandparent:\n",
        "  def show(self):\n",
        "    print(\"Grandparent show\")\n",
        "class Parent(Grandparent):\n",
        "  def show(self):\n",
        "    print(\"Parent show\")\n",
        "class Child(Parent):\n",
        "  def show(self):\n",
        "    print(\"Child show\")\n",
        "\n",
        "c=Child()\n",
        "c.show()  # show function same in all three, so jis class ka obj bnega vhi show chlega\n",
        "d=Parent()\n",
        "d.show()\n",
        "e=Grandparent()\n",
        "e.show()"
      ],
      "metadata": {
        "colab": {
          "base_uri": "https://localhost:8080/"
        },
        "id": "WsMWqW6tmDUF",
        "outputId": "bd38c402-8d52-4920-969e-fab0eeed5869"
      },
      "execution_count": 25,
      "outputs": [
        {
          "output_type": "stream",
          "name": "stdout",
          "text": [
            "Child show\n",
            "Parent show\n",
            "Grandparent show\n"
          ]
        }
      ]
    },
    {
      "cell_type": "markdown",
      "source": [
        "# Encapsulation\n",
        "\n",
        "Process of binding data and methods into a single unit and controlling allows data hiding and ensures that object's internal state is not directly accessible from outside.\n",
        "\n",
        "<br>\n",
        "Public members: Accesible everywhere\n",
        "<br>\n",
        "Protected members: Accessibe within class or subclass\n",
        "<br>\n",
        "Private members: Accessible only inside the class."
      ],
      "metadata": {
        "id": "05u_uwHxoTWF"
      }
    },
    {
      "cell_type": "code",
      "source": [
        "# Public Example:\n",
        "class Student:\n",
        "  def __init__(self,name,age):\n",
        "    self.name=name    #public\n",
        "    self.age=age      #public\n",
        "  def display(self):\n",
        "    print(\"Name: \",self.name)\n",
        "    print(\"Age: \",self.age)\n",
        "\n",
        "\n",
        "\n",
        "s=Student(\"Ram\",20)\n",
        "s.display()\n",
        "print(s.name)  #Direct access allowed"
      ],
      "metadata": {
        "colab": {
          "base_uri": "https://localhost:8080/"
        },
        "id": "oUnxc_ySnpwA",
        "outputId": "903d4709-f5b4-49ed-e5c7-05ca668e3f11"
      },
      "execution_count": 26,
      "outputs": [
        {
          "output_type": "stream",
          "name": "stdout",
          "text": [
            "Name:  Ram\n",
            "Age:  20\n",
            "Ram\n"
          ]
        }
      ]
    },
    {
      "cell_type": "code",
      "source": [
        "#protected example\n",
        "class Student:\n",
        "  def __init__(self,name,age):\n",
        "    self._name=name    #protected\n",
        "    self._age=age      #protected\n",
        "  def display(self):\n",
        "    print(\"Name: \",self._name)\n",
        "    print(\"Age: \",self._age)\n",
        "\n",
        "class Graduate(Student):\n",
        "  def show(self):\n",
        "    print(\"Accessing Protected members inside child class\")\n",
        "    print(self._name, self._age)\n",
        "\n",
        "g=Graduate(\"John\",20)\n",
        "g.display()\n",
        "g.show()"
      ],
      "metadata": {
        "colab": {
          "base_uri": "https://localhost:8080/"
        },
        "id": "-qxhVNVMpiWN",
        "outputId": "72886676-7428-48e7-9093-36fd1608c804"
      },
      "execution_count": 27,
      "outputs": [
        {
          "output_type": "stream",
          "name": "stdout",
          "text": [
            "Name:  John\n",
            "Age:  20\n",
            "Accessing Protected members inside child class\n",
            "John 20\n"
          ]
        }
      ]
    },
    {
      "cell_type": "code",
      "source": [
        "# Private Example\n",
        "class Student:\n",
        "  def __init__(self,name,age):\n",
        "    self.__name=name    #private\n",
        "    self.__age=age      #private\n",
        "  def display(self):\n",
        "    print(\"Name: \",self.__name)\n",
        "    print(\"Age: \",self.__age)\n",
        "\n",
        "s=Student(\"Ram\",20)\n",
        "s.display()\n",
        "\n",
        "# Direct access not allowed\n",
        "# print(s.__name) -> Error\n",
        "# Access using name Mangling\n",
        "# print(s._Student__name)"
      ],
      "metadata": {
        "colab": {
          "base_uri": "https://localhost:8080/"
        },
        "id": "MFCqQpbpqH2t",
        "outputId": "93a8df95-e3c6-42fc-ec87-d717a9aa7166"
      },
      "execution_count": 31,
      "outputs": [
        {
          "output_type": "stream",
          "name": "stdout",
          "text": [
            "Name:  Ram\n",
            "Age:  20\n"
          ]
        }
      ]
    },
    {
      "cell_type": "code",
      "source": [
        "# Getter and Setter Example\n",
        "class BankAccount:\n",
        "    def __init__(self, balance):\n",
        "        self.__balance = balance    # private variable\n",
        "\n",
        "    # Getter\n",
        "    def get_balance(self):\n",
        "        return self.__balance\n",
        "\n",
        "    # Setter\n",
        "    def set_balance(self, amount):\n",
        "        if amount < 0:\n",
        "            print(\"Balance cannot be negative!\")\n",
        "        else:\n",
        "            self.__balance = amount\n",
        "            print(\"Balance Updated! New Balance:\", self.__balance)\n",
        "\n",
        "\n",
        "# Create account object\n",
        "account = BankAccount(100000)\n",
        "\n",
        "# Use getter\n",
        "print(\"Current Balance:\", account.get_balance())\n",
        "\n",
        "# Use setter\n",
        "account.set_balance(2000)\n"
      ],
      "metadata": {
        "colab": {
          "base_uri": "https://localhost:8080/"
        },
        "id": "ZgyiyYNBrY8m",
        "outputId": "cd154fe3-2501-44e5-ddc4-4fdf6b10714f"
      },
      "execution_count": 42,
      "outputs": [
        {
          "output_type": "stream",
          "name": "stdout",
          "text": [
            "Current Balance: 100000\n",
            "Balance Updated! New Balance: 2000\n"
          ]
        }
      ]
    },
    {
      "cell_type": "code",
      "source": [],
      "metadata": {
        "id": "yoWFDL8Wthos"
      },
      "execution_count": null,
      "outputs": []
    }
  ]
}
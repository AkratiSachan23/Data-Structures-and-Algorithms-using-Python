{
  "nbformat": 4,
  "nbformat_minor": 0,
  "metadata": {
    "colab": {
      "provenance": [],
      "authorship_tag": "ABX9TyMFgMGYWbtZOGjtyfgaNHLh",
      "include_colab_link": true
    },
    "kernelspec": {
      "name": "python3",
      "display_name": "Python 3"
    },
    "language_info": {
      "name": "python"
    }
  },
  "cells": [
    {
      "cell_type": "markdown",
      "metadata": {
        "id": "view-in-github",
        "colab_type": "text"
      },
      "source": [
        "<a href=\"https://colab.research.google.com/github/AkratiSachan23/Data-Structures-and-Algorithms-using-Python/blob/main/Dynamic_Array.ipynb\" target=\"_parent\"><img src=\"https://colab.research.google.com/assets/colab-badge.svg\" alt=\"Open In Colab\"/></a>"
      ]
    },
    {
      "cell_type": "code",
      "execution_count": null,
      "metadata": {
        "id": "0iIlYuaa90_G"
      },
      "outputs": [],
      "source": [
        "import ctypes"
      ]
    },
    {
      "cell_type": "code",
      "source": [
        "class Meralist:\n",
        "    def __init__(self):\n",
        "        self.size = 1\n",
        "        self.n = 0\n",
        "        self.A = self.__make_array(self.size)\n",
        "\n",
        "    def __len__(self):\n",
        "        return self.n\n",
        "\n",
        "    def __str__(self):\n",
        "        result = ''\n",
        "        for i in range(self.n):\n",
        "            result = result + str(self.A[i]) + ','\n",
        "        return '[' + result[:-1] + ']'\n",
        "\n",
        "    def __getitem__(self, index):\n",
        "        if 0 <= index < self.n:\n",
        "            return self.A[index]\n",
        "        else:\n",
        "            return 'IndexError: Index out of range'\n",
        "\n",
        "    def append(self,item):\n",
        "      if self.n==self.size:\n",
        "        self.__resize(self.size*2) #resize\n",
        "      self.A[self.n]=item #append\n",
        "      self.n+=1\n",
        "\n",
        "    def pop(self):\n",
        "      if self.n ==0:\n",
        "        return 'Empty list'\n",
        "      print(self.A[self.n-1])\n",
        "      self.n=self.n-1\n",
        "\n",
        "    def __resize(self, new_capacity):\n",
        "      B=self.__make_array(new_capacity)\n",
        "      self.size=new_capacity\n",
        "      for i in range(self.n):\n",
        "        B[i]=self.A[i]\n",
        "      self.A=B\n",
        "\n",
        "    def __make_array(self, capacity):\n",
        "        return (capacity * ctypes.py_object)()\n"
      ],
      "metadata": {
        "id": "To0YLYKo-MKx"
      },
      "execution_count": null,
      "outputs": []
    },
    {
      "cell_type": "code",
      "source": [
        "L= Meralist()"
      ],
      "metadata": {
        "id": "-MBuF-EuDjBZ"
      },
      "execution_count": null,
      "outputs": []
    },
    {
      "cell_type": "code",
      "source": [
        "L.append('hello')\n",
        "L.append(3.4)\n",
        "L.append(True)\n",
        "L.append(100)"
      ],
      "metadata": {
        "id": "SOIf1w_cDl8W"
      },
      "execution_count": null,
      "outputs": []
    },
    {
      "cell_type": "code",
      "source": [
        "len(L)"
      ],
      "metadata": {
        "colab": {
          "base_uri": "https://localhost:8080/"
        },
        "id": "xc4sKN10FhwW",
        "outputId": "b844e887-160f-4b3c-9efa-ba71c831a279"
      },
      "execution_count": null,
      "outputs": [
        {
          "output_type": "execute_result",
          "data": {
            "text/plain": [
              "4"
            ]
          },
          "metadata": {},
          "execution_count": 26
        }
      ]
    },
    {
      "cell_type": "code",
      "source": [
        "L.append(34)\n",
        "len(L)"
      ],
      "metadata": {
        "colab": {
          "base_uri": "https://localhost:8080/"
        },
        "id": "mch0pfrTH-aW",
        "outputId": "b334f966-482f-4b23-fefa-e75fe186b072"
      },
      "execution_count": null,
      "outputs": [
        {
          "output_type": "execute_result",
          "data": {
            "text/plain": [
              "5"
            ]
          },
          "metadata": {},
          "execution_count": 27
        }
      ]
    },
    {
      "cell_type": "code",
      "source": [
        "print(L)"
      ],
      "metadata": {
        "colab": {
          "base_uri": "https://localhost:8080/"
        },
        "id": "a4QeegEaIDtY",
        "outputId": "a74a9f74-1de6-4800-a34d-67b39b41e3fa"
      },
      "execution_count": null,
      "outputs": [
        {
          "output_type": "stream",
          "name": "stdout",
          "text": [
            "[hello,3.4,True,100,34]\n"
          ]
        }
      ]
    },
    {
      "cell_type": "code",
      "source": [
        "L[3]"
      ],
      "metadata": {
        "colab": {
          "base_uri": "https://localhost:8080/"
        },
        "id": "zxExrAu1IYmo",
        "outputId": "af35fcf6-9a0d-409b-e832-85d63547a249"
      },
      "execution_count": null,
      "outputs": [
        {
          "output_type": "execute_result",
          "data": {
            "text/plain": [
              "100"
            ]
          },
          "metadata": {},
          "execution_count": 29
        }
      ]
    },
    {
      "cell_type": "code",
      "source": [
        "L.pop()"
      ],
      "metadata": {
        "colab": {
          "base_uri": "https://localhost:8080/"
        },
        "id": "xp1xo3_TJDtc",
        "outputId": "24cd8d95-8be8-46f2-ce80-113fabdd58ff"
      },
      "execution_count": null,
      "outputs": [
        {
          "output_type": "stream",
          "name": "stdout",
          "text": [
            "34\n"
          ]
        }
      ]
    },
    {
      "cell_type": "code",
      "source": [],
      "metadata": {
        "id": "G9l8bPOvJrEK"
      },
      "execution_count": null,
      "outputs": []
    }
  ]
}
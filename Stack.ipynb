{
  "nbformat": 4,
  "nbformat_minor": 0,
  "metadata": {
    "colab": {
      "provenance": [],
      "authorship_tag": "ABX9TyMfJyPluzACE4DNMYb7DBqJ",
      "include_colab_link": true
    },
    "kernelspec": {
      "name": "python3",
      "display_name": "Python 3"
    },
    "language_info": {
      "name": "python"
    }
  },
  "cells": [
    {
      "cell_type": "markdown",
      "metadata": {
        "id": "view-in-github",
        "colab_type": "text"
      },
      "source": [
        "<a href=\"https://colab.research.google.com/github/AkratiSachan23/Data-Structures-and-Algorithms-using-Python/blob/main/Stack.ipynb\" target=\"_parent\"><img src=\"https://colab.research.google.com/assets/colab-badge.svg\" alt=\"Open In Colab\"/></a>"
      ]
    },
    {
      "cell_type": "markdown",
      "source": [
        "Stack-Linked List Implementation"
      ],
      "metadata": {
        "id": "8D2rov5xujmv"
      }
    },
    {
      "cell_type": "code",
      "source": [
        "class Node:\n",
        "  def __init__(self,value):\n",
        "    self.data = value\n",
        "    self.next = None"
      ],
      "metadata": {
        "id": "EY5Rfgbbunnq"
      },
      "execution_count": 1,
      "outputs": []
    },
    {
      "cell_type": "code",
      "source": [
        "class Stack:\n",
        "  def __init__(self):\n",
        "    self.top = None\n",
        "\n",
        "  def isempty(self):\n",
        "    return self.top == None\n",
        "\n",
        "  def push(self,value):\n",
        "    new_node = Node(value)\n",
        "    new_node.next = self.top\n",
        "    self.top = new_node\n",
        "\n",
        "  def peek(self):\n",
        "    if self.isempty():\n",
        "      print(\"Stack is empty\")\n",
        "    else:\n",
        "      return self.top.data\n",
        "\n",
        "  def pop(self):\n",
        "    if self.isempty():\n",
        "      print(\"Stack is empty\")\n",
        "    else:\n",
        "      data = self.top.data\n",
        "      self.top = self.top.next\n",
        "      return data\n",
        "\n",
        "  def traverse(self):\n",
        "    temp = self.top\n",
        "    while temp:\n",
        "      print(temp.data)\n",
        "      temp = temp.next\n",
        "\n",
        "  def size(self):\n",
        "    temp = self.top\n",
        "    count = 0\n",
        "    while temp:\n",
        "      count += 1\n",
        "      temp = temp.next\n",
        "    return count"
      ],
      "metadata": {
        "id": "k5yisn-FuzdL"
      },
      "execution_count": 26,
      "outputs": []
    },
    {
      "cell_type": "code",
      "source": [
        "s=Stack()"
      ],
      "metadata": {
        "id": "-pC62oOYvjEC"
      },
      "execution_count": 9,
      "outputs": []
    },
    {
      "cell_type": "code",
      "source": [
        "s.isempty()"
      ],
      "metadata": {
        "colab": {
          "base_uri": "https://localhost:8080/"
        },
        "id": "6ap5Wd7Fvl5T",
        "outputId": "e7dd0fca-a0ba-41f1-f595-36499946d104"
      },
      "execution_count": 10,
      "outputs": [
        {
          "output_type": "execute_result",
          "data": {
            "text/plain": [
              "True"
            ]
          },
          "metadata": {},
          "execution_count": 10
        }
      ]
    },
    {
      "cell_type": "code",
      "source": [
        "s.push(2)\n",
        "s.push(3)\n",
        "s.push(4)\n",
        "s.push(5)\n",
        "s.push(6)"
      ],
      "metadata": {
        "id": "zFovz8KMvoJh"
      },
      "execution_count": 11,
      "outputs": []
    },
    {
      "cell_type": "code",
      "source": [
        "s.traverse()"
      ],
      "metadata": {
        "colab": {
          "base_uri": "https://localhost:8080/"
        },
        "id": "r97dUy1MvvcH",
        "outputId": "93d08178-a70d-4be4-adda-3e4cc2fbd022"
      },
      "execution_count": 12,
      "outputs": [
        {
          "output_type": "stream",
          "name": "stdout",
          "text": [
            "6\n",
            "5\n",
            "4\n",
            "3\n",
            "2\n"
          ]
        }
      ]
    },
    {
      "cell_type": "code",
      "source": [
        "s.peek()"
      ],
      "metadata": {
        "colab": {
          "base_uri": "https://localhost:8080/"
        },
        "id": "K_x_5nIGvxnb",
        "outputId": "a933ce1f-c494-4280-dab0-7e3f0df3bc32"
      },
      "execution_count": 13,
      "outputs": [
        {
          "output_type": "execute_result",
          "data": {
            "text/plain": [
              "6"
            ]
          },
          "metadata": {},
          "execution_count": 13
        }
      ]
    },
    {
      "cell_type": "code",
      "source": [
        "s.pop()"
      ],
      "metadata": {
        "colab": {
          "base_uri": "https://localhost:8080/"
        },
        "id": "DuYdOV5HwQpH",
        "outputId": "fd93a22c-595a-456e-b7a3-a9faec872194"
      },
      "execution_count": 14,
      "outputs": [
        {
          "output_type": "execute_result",
          "data": {
            "text/plain": [
              "6"
            ]
          },
          "metadata": {},
          "execution_count": 14
        }
      ]
    },
    {
      "cell_type": "code",
      "source": [
        "s.traverse()"
      ],
      "metadata": {
        "colab": {
          "base_uri": "https://localhost:8080/"
        },
        "id": "4DCbBg9xwVA4",
        "outputId": "2f915bc8-e0a5-404c-d33d-4b8cc606d398"
      },
      "execution_count": 15,
      "outputs": [
        {
          "output_type": "stream",
          "name": "stdout",
          "text": [
            "5\n",
            "4\n",
            "3\n",
            "2\n"
          ]
        }
      ]
    },
    {
      "cell_type": "markdown",
      "source": [
        "Q> String reversal"
      ],
      "metadata": {
        "id": "71IUPX2xwgf1"
      }
    },
    {
      "cell_type": "code",
      "source": [
        "# Time complexity - O(n)\n",
        "# Space Complexity - O(n) bcs if string double then stack size will also be double,, so we dont use stack to reverse a string"
      ],
      "metadata": {
        "id": "mIdzCTIRwXl-"
      },
      "execution_count": 16,
      "outputs": []
    },
    {
      "cell_type": "code",
      "source": [
        "def reverse_string(text):\n",
        "  s=Stack()\n",
        "  for i in text:\n",
        "    s.push(i)\n",
        "  rev=\"\"\n",
        "  while not s.isempty():\n",
        "    rev+=s.pop()\n",
        "  return rev"
      ],
      "metadata": {
        "id": "KCppddmgxNSM"
      },
      "execution_count": 17,
      "outputs": []
    },
    {
      "cell_type": "code",
      "source": [
        "reverse_string(\"Hello\")"
      ],
      "metadata": {
        "colab": {
          "base_uri": "https://localhost:8080/",
          "height": 36
        },
        "id": "vlnTy-JFxqdp",
        "outputId": "51441a2a-2dd2-4c2f-f129-8d1c3ab4bc1a"
      },
      "execution_count": 18,
      "outputs": [
        {
          "output_type": "execute_result",
          "data": {
            "text/plain": [
              "'olleH'"
            ],
            "application/vnd.google.colaboratory.intrinsic+json": {
              "type": "string"
            }
          },
          "metadata": {},
          "execution_count": 18
        }
      ]
    },
    {
      "cell_type": "markdown",
      "source": [
        "Q> Text Editor\n",
        "(use two stacks)"
      ],
      "metadata": {
        "id": "1oFHLVP2x1R8"
      }
    },
    {
      "cell_type": "code",
      "source": [
        "def text_editor(text, pattern):\n",
        "  u=Stack()\n",
        "  r=Stack()\n",
        "\n",
        "  for i in text:\n",
        "    u.push(i)\n",
        "\n",
        "  for i in pattern:\n",
        "    if i==\"u\":\n",
        "      data=u.pop()\n",
        "      r.push(data)\n",
        "    else:\n",
        "      data=r.pop()\n",
        "      u.push(data)\n",
        "\n",
        "  rev=\"\"\n",
        "  while not u.isempty():\n",
        "    rev+=u.pop()\n",
        "  return rev\n"
      ],
      "metadata": {
        "id": "p1QKtCe-xx7s"
      },
      "execution_count": 19,
      "outputs": []
    },
    {
      "cell_type": "code",
      "source": [
        "text_editor(\"Kolkata\",\"uurrurur\")"
      ],
      "metadata": {
        "colab": {
          "base_uri": "https://localhost:8080/",
          "height": 36
        },
        "id": "F4Wc8c6j1qnh",
        "outputId": "b8c26693-fb99-46c8-9769-bb1d5b55a656"
      },
      "execution_count": 20,
      "outputs": [
        {
          "output_type": "execute_result",
          "data": {
            "text/plain": [
              "'atakloK'"
            ],
            "application/vnd.google.colaboratory.intrinsic+json": {
              "type": "string"
            }
          },
          "metadata": {},
          "execution_count": 20
        }
      ]
    },
    {
      "cell_type": "markdown",
      "source": [
        "Q> Celebrity Problem"
      ],
      "metadata": {
        "id": "PUVC6Yfo3Bhd"
      }
    },
    {
      "cell_type": "code",
      "source": [
        "# very important problem, And best solution is STACK as the matrix problem solved in O(n)"
      ],
      "metadata": {
        "id": "PMZO9j2D1vfv"
      },
      "execution_count": 21,
      "outputs": []
    },
    {
      "cell_type": "code",
      "source": [
        "L=[\n",
        "    [0,0,1,1],\n",
        "    [0,0,1,0],\n",
        "    [0,0,0,0],\n",
        "    [0,0,1,0]\n",
        "]"
      ],
      "metadata": {
        "id": "WhAEbKwJ5L7w"
      },
      "execution_count": 22,
      "outputs": []
    },
    {
      "cell_type": "code",
      "source": [
        "from types import CellType\n",
        "def find_the_celeb(L):\n",
        "  s=Stack()\n",
        "  for i in range(len(L)):\n",
        "    s.push(i)\n",
        "\n",
        "  while s.size()>=2:\n",
        "    i=s.pop()\n",
        "    j=s.pop()\n",
        "\n",
        "    if L[i][j]==0:\n",
        "      s.push(i)\n",
        "    else:\n",
        "      s.push(j)\n",
        "\n",
        "  celeb=s.pop()\n",
        "\n",
        "  for i in range(len(L)):\n",
        "    if i!=celeb:\n",
        "      if L[i][celeb]==0 or L[celeb][i]==1:\n",
        "        print(\"No Celebrity\")\n",
        "        return\n",
        "  print(\"The celebrity is \", celeb)"
      ],
      "metadata": {
        "id": "-bvkxD4z5huh"
      },
      "execution_count": 31,
      "outputs": []
    },
    {
      "cell_type": "code",
      "source": [
        "find_the_celeb(L)"
      ],
      "metadata": {
        "colab": {
          "base_uri": "https://localhost:8080/"
        },
        "id": "UkydqieX6Kfn",
        "outputId": "ab0dfdb5-6589-45b1-eea0-d9a9deb69406"
      },
      "execution_count": 32,
      "outputs": [
        {
          "output_type": "stream",
          "name": "stdout",
          "text": [
            "The celebrity is  2\n"
          ]
        }
      ]
    },
    {
      "cell_type": "markdown",
      "source": [
        "Q> Balanced Paranthesis"
      ],
      "metadata": {
        "id": "HUffclw97Hgk"
      }
    },
    {
      "cell_type": "markdown",
      "source": [
        "STACK using Array"
      ],
      "metadata": {
        "id": "go5TIFL9-uAn"
      }
    },
    {
      "cell_type": "code",
      "source": [
        "L=[1,2,3,4]"
      ],
      "metadata": {
        "id": "IBGmC1GW6L9l"
      },
      "execution_count": 33,
      "outputs": []
    },
    {
      "cell_type": "code",
      "source": [
        "class Stack:\n",
        "  def __init__(self,size):\n",
        "    self.size = size\n",
        "    self.stack = [None]*self.size\n",
        "    self.top=-1\n",
        "\n",
        "  def push(self,value):\n",
        "    if self.top==self.size-1:\n",
        "      return \"Overflow\"\n",
        "    else:\n",
        "      self.top+=1\n",
        "      self.stack[self.top]=value\n",
        "\n",
        "  def pop(self):\n",
        "    if self.top==-1:\n",
        "      return \"Empty\"\n",
        "\n",
        "    else:\n",
        "      data=self.stack[self.top]\n",
        "      self.top-=1\n",
        "      return data\n",
        "\n",
        "  def traverse(self):\n",
        "    for i in range(self.top+1):\n",
        "      print(self.stack[i], end=' ')\n"
      ],
      "metadata": {
        "id": "CHvndTTn_GYQ"
      },
      "execution_count": 53,
      "outputs": []
    },
    {
      "cell_type": "code",
      "source": [
        "s=Stack(3)\n",
        "s.stack"
      ],
      "metadata": {
        "colab": {
          "base_uri": "https://localhost:8080/"
        },
        "id": "DNOa11EH_VZI",
        "outputId": "6347e117-a84b-4508-d0f0-9b05a89e8402"
      },
      "execution_count": 54,
      "outputs": [
        {
          "output_type": "execute_result",
          "data": {
            "text/plain": [
              "[None, None, None]"
            ]
          },
          "metadata": {},
          "execution_count": 54
        }
      ]
    },
    {
      "cell_type": "code",
      "source": [
        "s.push(3)\n",
        "s.push(4)\n",
        "s.stack"
      ],
      "metadata": {
        "colab": {
          "base_uri": "https://localhost:8080/"
        },
        "id": "HgXCvrsO_bkD",
        "outputId": "bff8ee83-e8ee-4d03-8c57-4215cdc8e7bd"
      },
      "execution_count": 55,
      "outputs": [
        {
          "output_type": "execute_result",
          "data": {
            "text/plain": [
              "[3, 4, None]"
            ]
          },
          "metadata": {},
          "execution_count": 55
        }
      ]
    },
    {
      "cell_type": "code",
      "source": [
        "s.push(6)"
      ],
      "metadata": {
        "id": "SwhPEiin_8am"
      },
      "execution_count": 56,
      "outputs": []
    },
    {
      "cell_type": "code",
      "source": [
        "s.stack"
      ],
      "metadata": {
        "colab": {
          "base_uri": "https://localhost:8080/"
        },
        "id": "FaDc4RMEAXrW",
        "outputId": "23de6e30-8228-4df5-c09c-7222a50f3618"
      },
      "execution_count": 57,
      "outputs": [
        {
          "output_type": "execute_result",
          "data": {
            "text/plain": [
              "[3, 4, 6]"
            ]
          },
          "metadata": {},
          "execution_count": 57
        }
      ]
    },
    {
      "cell_type": "code",
      "source": [
        "s.pop()"
      ],
      "metadata": {
        "colab": {
          "base_uri": "https://localhost:8080/"
        },
        "id": "55gAvspBAY8R",
        "outputId": "c7f1ad1e-2edd-48fb-9377-371c1b09be44"
      },
      "execution_count": 58,
      "outputs": [
        {
          "output_type": "execute_result",
          "data": {
            "text/plain": [
              "6"
            ]
          },
          "metadata": {},
          "execution_count": 58
        }
      ]
    },
    {
      "cell_type": "code",
      "source": [
        "s.traverse()"
      ],
      "metadata": {
        "colab": {
          "base_uri": "https://localhost:8080/"
        },
        "id": "fqkyJ5H3Aad0",
        "outputId": "88a09a0d-f117-4502-da50-35dd12b85dbe"
      },
      "execution_count": 60,
      "outputs": [
        {
          "output_type": "stream",
          "name": "stdout",
          "text": [
            "3 4 "
          ]
        }
      ]
    },
    {
      "cell_type": "code",
      "source": [],
      "metadata": {
        "id": "wn1brKZwAwKX"
      },
      "execution_count": null,
      "outputs": []
    }
  ]
}
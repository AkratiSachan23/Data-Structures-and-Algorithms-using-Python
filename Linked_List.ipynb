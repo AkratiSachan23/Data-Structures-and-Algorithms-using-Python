{
  "nbformat": 4,
  "nbformat_minor": 0,
  "metadata": {
    "colab": {
      "provenance": [],
      "authorship_tag": "ABX9TyNNzvVaZZ5g42PM6MsT1yKJ",
      "include_colab_link": true
    },
    "kernelspec": {
      "name": "python3",
      "display_name": "Python 3"
    },
    "language_info": {
      "name": "python"
    }
  },
  "cells": [
    {
      "cell_type": "markdown",
      "metadata": {
        "id": "view-in-github",
        "colab_type": "text"
      },
      "source": [
        "<a href=\"https://colab.research.google.com/github/AkratiSachan23/Data-Structures-and-Algorithms-using-Python/blob/main/Linked_List.ipynb\" target=\"_parent\"><img src=\"https://colab.research.google.com/assets/colab-badge.svg\" alt=\"Open In Colab\"/></a>"
      ]
    },
    {
      "cell_type": "code",
      "execution_count": 1,
      "metadata": {
        "id": "F6sRXRkqv9Js"
      },
      "outputs": [],
      "source": [
        "class Node:\n",
        "  def __init__(self,value):\n",
        "    self.data=value\n",
        "    self.next=None\n"
      ]
    },
    {
      "cell_type": "code",
      "source": [
        "a=Node(1)\n",
        "b=Node(2)\n",
        "c=Node(3)"
      ],
      "metadata": {
        "id": "Z1DiPMU4xAf8"
      },
      "execution_count": 2,
      "outputs": []
    },
    {
      "cell_type": "code",
      "source": [
        "print(a.next)"
      ],
      "metadata": {
        "colab": {
          "base_uri": "https://localhost:8080/"
        },
        "id": "23E1e993xFfC",
        "outputId": "bec09618-938e-4cd1-bbd8-e3aebac0280d"
      },
      "execution_count": 3,
      "outputs": [
        {
          "output_type": "stream",
          "name": "stdout",
          "text": [
            "None\n"
          ]
        }
      ]
    },
    {
      "cell_type": "code",
      "source": [
        "print(b.data)"
      ],
      "metadata": {
        "colab": {
          "base_uri": "https://localhost:8080/"
        },
        "id": "EdmDlBTYxLHX",
        "outputId": "5a96267a-d2d7-41a9-e9cb-89538d908427"
      },
      "execution_count": 4,
      "outputs": [
        {
          "output_type": "stream",
          "name": "stdout",
          "text": [
            "2\n"
          ]
        }
      ]
    },
    {
      "cell_type": "code",
      "source": [
        "# Connecting individual nodes\n",
        "a.next=b\n",
        "b.next=c"
      ],
      "metadata": {
        "id": "-eJHECTnxPmp"
      },
      "execution_count": 5,
      "outputs": []
    },
    {
      "cell_type": "code",
      "source": [
        "print(a.next)"
      ],
      "metadata": {
        "colab": {
          "base_uri": "https://localhost:8080/"
        },
        "id": "guQ8qiBgxffW",
        "outputId": "9e45e727-589a-4fca-c1e2-bbb00f50a10f"
      },
      "execution_count": 6,
      "outputs": [
        {
          "output_type": "stream",
          "name": "stdout",
          "text": [
            "<__main__.Node object at 0x7bc07ed09fd0>\n"
          ]
        }
      ]
    },
    {
      "cell_type": "code",
      "source": [
        "class LinkedList:\n",
        "  def __init__(self):\n",
        "    self.head=None # head=none -> empty linked list\n",
        "    self.n=0\n",
        "\n",
        "  def __len__(self):\n",
        "    return self.n\n",
        "\n",
        "  def insert_head(self,value):\n",
        "    new_node=Node(value)\n",
        "    new_node.next=self.head\n",
        "    self.head=new_node\n",
        "    self.n=self.n+1\n",
        "\n",
        "  def __str__(self):\n",
        "    curr=self.head\n",
        "    result=''\n",
        "    while curr!=None:\n",
        "      result=result+str(curr.data)+'->'\n",
        "      curr=curr.next\n",
        "    return result[:-2]\n",
        "\n",
        "  def append(self,value):\n",
        "    new_node=Node(value)\n",
        "\n",
        "    if self.head==None:\n",
        "      self.head=new_node\n",
        "      self.n=self.n+1\n",
        "      return\n",
        "\n",
        "    curr=self.head\n",
        "    while curr.next!=None:\n",
        "      curr=curr.next\n",
        "    curr.next=new_node\n",
        "    self.n=self.n+1\n",
        "\n",
        "  def insert_after(self,after,value):\n",
        "    new_node=Node(value)\n",
        "    curr=self.head\n",
        "\n",
        "    while curr!=None:\n",
        "      if curr.data==after:\n",
        "        break\n",
        "      curr=curr.next\n",
        "\n",
        "    if curr!=None:\n",
        "      new_node.next=curr.next\n",
        "      curr.next=new_node\n",
        "      self.n=self.n+1\n",
        "    else:\n",
        "      return 'Item not Found'\n",
        "\n",
        "  def clear(self):\n",
        "    self.head=None\n",
        "    self.n=0\n",
        "\n",
        "  def delete_head(self):\n",
        "    if self.head==None:\n",
        "      return 'Empty List'\n",
        "    self.head=self.head.next\n",
        "    self.n=self.n-1\n",
        "\n",
        "  def pop(self):\n",
        "    if self.head==None:\n",
        "      return 'Empty List'\n",
        "\n",
        "    curr=self.head\n",
        "\n",
        "    if curr.next==None:\n",
        "      return self.delete_head()\n",
        "\n",
        "    while curr.next.next!=None:\n",
        "      curr=curr.next\n",
        "    curr.next=None\n",
        "    self.n=self.n-1"
      ],
      "metadata": {
        "id": "43bYzg1kxjX6"
      },
      "execution_count": 7,
      "outputs": []
    },
    {
      "cell_type": "code",
      "source": [
        "L=LinkedList()"
      ],
      "metadata": {
        "id": "F9-gkW7Bx_UN"
      },
      "execution_count": 8,
      "outputs": []
    },
    {
      "cell_type": "code",
      "source": [
        "L.insert_head(1)\n",
        "L.insert_head(2)\n",
        "L.insert_head(3)\n",
        "L.insert_head(4)"
      ],
      "metadata": {
        "id": "EztBxeopyH5a"
      },
      "execution_count": 9,
      "outputs": []
    },
    {
      "cell_type": "code",
      "source": [
        "print(len(L))"
      ],
      "metadata": {
        "colab": {
          "base_uri": "https://localhost:8080/"
        },
        "id": "WVV6QX1F0Jce",
        "outputId": "f65e0eb7-befa-49fe-ad77-30a3e6fe94ca"
      },
      "execution_count": 10,
      "outputs": [
        {
          "output_type": "stream",
          "name": "stdout",
          "text": [
            "4\n"
          ]
        }
      ]
    },
    {
      "cell_type": "code",
      "source": [
        "print(L)"
      ],
      "metadata": {
        "colab": {
          "base_uri": "https://localhost:8080/"
        },
        "id": "7gB-1DOM0rNg",
        "outputId": "a03ce5f3-3d52-4c18-a15f-817d6eab40e2"
      },
      "execution_count": 11,
      "outputs": [
        {
          "output_type": "stream",
          "name": "stdout",
          "text": [
            "4->3->2->1\n"
          ]
        }
      ]
    },
    {
      "cell_type": "code",
      "source": [
        "L.append(5)"
      ],
      "metadata": {
        "id": "hq85rfVc0rRM"
      },
      "execution_count": 12,
      "outputs": []
    },
    {
      "cell_type": "code",
      "source": [
        "print(L)"
      ],
      "metadata": {
        "colab": {
          "base_uri": "https://localhost:8080/"
        },
        "id": "tnyTk-Kc0rTx",
        "outputId": "37818acd-8cd6-42f1-f753-15c47d500dea"
      },
      "execution_count": 13,
      "outputs": [
        {
          "output_type": "stream",
          "name": "stdout",
          "text": [
            "4->3->2->1->5\n"
          ]
        }
      ]
    },
    {
      "cell_type": "code",
      "source": [
        "L.insert_after(3,30)"
      ],
      "metadata": {
        "id": "Qav9Itrg0rX-"
      },
      "execution_count": 14,
      "outputs": []
    },
    {
      "cell_type": "code",
      "source": [
        "print(L)"
      ],
      "metadata": {
        "colab": {
          "base_uri": "https://localhost:8080/"
        },
        "id": "zl44Tmwb0rbd",
        "outputId": "f6312d1c-0f60-4bc8-8a4f-54c171371767"
      },
      "execution_count": 15,
      "outputs": [
        {
          "output_type": "stream",
          "name": "stdout",
          "text": [
            "4->3->30->2->1->5\n"
          ]
        }
      ]
    },
    {
      "cell_type": "code",
      "source": [
        "L.delete_head()"
      ],
      "metadata": {
        "id": "xB1x9V-C7zUU"
      },
      "execution_count": 16,
      "outputs": []
    },
    {
      "cell_type": "code",
      "source": [
        "print(L)"
      ],
      "metadata": {
        "colab": {
          "base_uri": "https://localhost:8080/"
        },
        "id": "MD3_1r6087JY",
        "outputId": "60f967a9-88ba-4077-d558-d140cabfa1c7"
      },
      "execution_count": 17,
      "outputs": [
        {
          "output_type": "stream",
          "name": "stdout",
          "text": [
            "3->30->2->1->5\n"
          ]
        }
      ]
    },
    {
      "cell_type": "code",
      "source": [
        "L.pop()"
      ],
      "metadata": {
        "id": "nSjuDILY88Bm"
      },
      "execution_count": 18,
      "outputs": []
    },
    {
      "cell_type": "code",
      "source": [
        "print(L)"
      ],
      "metadata": {
        "colab": {
          "base_uri": "https://localhost:8080/"
        },
        "id": "PQ9MG9bn9oWl",
        "outputId": "076ec60e-7b9a-4933-cfc5-5f88fb297a92"
      },
      "execution_count": 19,
      "outputs": [
        {
          "output_type": "stream",
          "name": "stdout",
          "text": [
            "3->30->2->1\n"
          ]
        }
      ]
    },
    {
      "cell_type": "code",
      "source": [],
      "metadata": {
        "id": "QkMBlJYF9p64"
      },
      "execution_count": 19,
      "outputs": []
    }
  ]
}